{
  "cells": [
    {
      "cell_type": "markdown",
      "metadata": {
        "id": "view-in-github",
        "colab_type": "text"
      },
      "source": [
        "<a href=\"https://colab.research.google.com/github/xyluo25/DLSim-MRM/blob/main/DLSim.ipynb\" target=\"_parent\"><img src=\"https://colab.research.google.com/assets/colab-badge.svg\" alt=\"Open In Colab\"/></a>"
      ]
    },
    {
      "cell_type": "markdown",
      "source": [
        "# Step 1 Install DLSim onto virtual machine (Linux)"
      ],
      "metadata": {
        "id": "l2WJptM0Py0h"
      },
      "id": "l2WJptM0Py0h"
    },
    {
      "cell_type": "code",
      "source": [
        "!pip install DLSim"
      ],
      "metadata": {
        "id": "4lzID_HgPkJ2",
        "outputId": "2ac6a2fe-a5f2-4477-8853-8d7712558b07",
        "colab": {
          "base_uri": "https://localhost:8080/"
        }
      },
      "id": "4lzID_HgPkJ2",
      "execution_count": 1,
      "outputs": [
        {
          "output_type": "stream",
          "name": "stdout",
          "text": [
            "Looking in indexes: https://pypi.org/simple, https://us-python.pkg.dev/colab-wheels/public/simple/\n",
            "Collecting DLSim\n",
            "  Downloading DLSim-0.2.11-py3-none-any.whl (405 kB)\n",
            "\u001b[2K     \u001b[90m━━━━━━━━━━━━━━━━━━━━━━━━━━━━━━━━━━━━━━━\u001b[0m \u001b[32m405.4/405.4 kB\u001b[0m \u001b[31m4.7 MB/s\u001b[0m eta \u001b[36m0:00:00\u001b[0m\n",
            "\u001b[?25hInstalling collected packages: DLSim\n",
            "Successfully installed DLSim-0.2.11\n"
          ]
        }
      ]
    },
    {
      "cell_type": "markdown",
      "source": [
        "# Step 2 Clone data from github for test\n"
      ],
      "metadata": {
        "id": "OD9XnwIcRM_2"
      },
      "id": "OD9XnwIcRM_2"
    },
    {
      "cell_type": "code",
      "source": [
        "! git clone https://github.com/xyluo25/DLSim-MRM.git"
      ],
      "metadata": {
        "id": "KVjFhbV5PkB-",
        "outputId": "406b4557-d94a-4618-9dba-3a540fbb60ce",
        "colab": {
          "base_uri": "https://localhost:8080/"
        }
      },
      "id": "KVjFhbV5PkB-",
      "execution_count": 2,
      "outputs": [
        {
          "output_type": "stream",
          "name": "stdout",
          "text": [
            "Cloning into 'DLSim-MRM'...\n",
            "remote: Enumerating objects: 1392, done.\u001b[K\n",
            "remote: Counting objects: 100% (316/316), done.\u001b[K\n",
            "remote: Compressing objects: 100% (231/231), done.\u001b[K\n",
            "remote: Total 1392 (delta 139), reused 231 (delta 75), pack-reused 1076\u001b[K\n",
            "Receiving objects: 100% (1392/1392), 329.08 MiB | 21.47 MiB/s, done.\n",
            "Resolving deltas: 100% (640/640), done.\n"
          ]
        }
      ]
    },
    {
      "cell_type": "markdown",
      "source": [
        "# Step 3 Test Datasets"
      ],
      "metadata": {
        "id": "HsTKfp5aShBq"
      },
      "id": "HsTKfp5aShBq"
    },
    {
      "cell_type": "markdown",
      "source": [
        "## Test first dataset"
      ],
      "metadata": {
        "id": "xm5dGaYgSm_E"
      },
      "id": "xm5dGaYgSm_E"
    },
    {
      "cell_type": "code",
      "source": [
        "# show current working directory\n",
        "! pwd"
      ],
      "metadata": {
        "id": "1R56gXUjPj6s",
        "outputId": "901a4733-fe89-4f8e-9361-40b3f2691311",
        "colab": {
          "base_uri": "https://localhost:8080/"
        }
      },
      "id": "1R56gXUjPj6s",
      "execution_count": 3,
      "outputs": [
        {
          "output_type": "stream",
          "name": "stdout",
          "text": [
            "/content\n"
          ]
        }
      ]
    },
    {
      "cell_type": "code",
      "source": [
        "# navigate the folder to our test data folder\n",
        "%cd DLSim-MRM/datasets/ASU"
      ],
      "metadata": {
        "id": "3XU6hnmIVLqS",
        "outputId": "cdb4f490-4822-4693-940b-64251125efdc",
        "colab": {
          "base_uri": "https://localhost:8080/"
        }
      },
      "id": "3XU6hnmIVLqS",
      "execution_count": 4,
      "outputs": [
        {
          "output_type": "stream",
          "name": "stdout",
          "text": [
            "/content/DLSim-MRM/datasets/ASU\n"
          ]
        }
      ]
    },
    {
      "cell_type": "code",
      "source": [
        "! pwd"
      ],
      "metadata": {
        "id": "OmgjhKJYVT0j",
        "outputId": "8eb3738d-1f9e-48a4-a026-0da491583de1",
        "colab": {
          "base_uri": "https://localhost:8080/"
        }
      },
      "id": "OmgjhKJYVT0j",
      "execution_count": 5,
      "outputs": [
        {
          "output_type": "stream",
          "name": "stdout",
          "text": [
            "/content/DLSim-MRM/datasets/ASU\n"
          ]
        }
      ]
    },
    {
      "cell_type": "code",
      "source": [
        "# import DLSim\n",
        "from DLSim import DLSim\n",
        "DL = DLSim()"
      ],
      "metadata": {
        "id": "u1Vu6qgOPjec",
        "outputId": "09b19605-a616-480d-e1b6-2f4f8b22e38c",
        "colab": {
          "base_uri": "https://localhost:8080/"
        }
      },
      "id": "u1Vu6qgOPjec",
      "execution_count": 6,
      "outputs": [
        {
          "output_type": "stream",
          "name": "stdout",
          "text": [
            "DLSim version: 0.2.11\n"
          ]
        }
      ]
    },
    {
      "cell_type": "code",
      "source": [
        "# check the currently working environment\n",
        "DL.check_working_directory(\"/content/DLSim-MRM/datasets/ASU\")\n"
      ],
      "metadata": {
        "id": "Tsgb7Z3US143",
        "outputId": "c23d728a-420f-4f1c-ffb1-0d096d56d9d4",
        "colab": {
          "base_uri": "https://localhost:8080/"
        }
      },
      "id": "Tsgb7Z3US143",
      "execution_count": 7,
      "outputs": [
        {
          "output_type": "stream",
          "name": "stdout",
          "text": [
            "Current working directory: /content/DLSim-MRM/datasets/ASU.             Please note that all the input files ['settings.csv', 'node.csv', 'link.csv', 'demand.csv'] should be in this directory.             You can change the working directory by calling the function:             check_working_directory(working_dir = 'your working directory')\n"
          ]
        }
      ]
    },
    {
      "cell_type": "code",
      "source": [
        "# check inputs \n",
        "DL.check_DLSim_input_files()"
      ],
      "metadata": {
        "id": "ANmNYrrQTJ-y",
        "outputId": "a8140fcc-1a6a-4e60-e60a-8071eaece00d",
        "colab": {
          "base_uri": "https://localhost:8080/"
        }
      },
      "id": "ANmNYrrQTJ-y",
      "execution_count": 8,
      "outputs": [
        {
          "output_type": "stream",
          "name": "stdout",
          "text": [
            "input dir: /content/DLSim-MRM/datasets/ASU \n",
            "input file type csv\n",
            "All the required files ['settings.csv', 'node.csv', 'link.csv', 'demand.csv'] in the working directory.\n"
          ]
        }
      ]
    },
    {
      "cell_type": "code",
      "source": [
        "DL.DLSim_settings"
      ],
      "metadata": {
        "id": "EznsV3oMTRea",
        "outputId": "1f6fb225-e685-4556-c8c1-bf2c751f2678",
        "colab": {
          "base_uri": "https://localhost:8080/",
          "height": 667
        }
      },
      "id": "EznsV3oMTRea",
      "execution_count": 9,
      "outputs": [
        {
          "output_type": "stream",
          "name": "stdout",
          "text": [
            "Loading settings from /content/DLSim-MRM/datasets/ASU/settings.csv.             you can prepare or change the settings.csv file in the working directory.\n"
          ]
        },
        {
          "output_type": "execute_result",
          "data": {
            "text/plain": [
              "           [assignment]        Unnamed: 1     assignment_mode  \\\n",
              "0                   NaN               NaN                  ue   \n",
              "1                   NaN               NaN                 NaN   \n",
              "2          [agent_type]        agent_type                name   \n",
              "3                   NaN                 p           passenger   \n",
              "4                   NaN               NaN                 NaN   \n",
              "5           [link_type]         link_type      link_type_name   \n",
              "6                   NaN                 1  Highway/Expressway   \n",
              "7                   NaN                 2      Major arterial   \n",
              "8                   NaN               NaN                 NaN   \n",
              "9       [demand_period]  demand_period_id       demand_period   \n",
              "10                  NaN                 1                  AM   \n",
              "11                  NaN               NaN                 NaN   \n",
              "12   [demand_file_list]  file_sequence_no           file_name   \n",
              "13                  NaN                 1          demand.csv   \n",
              "14                  NaN               NaN                 NaN   \n",
              "15  [capacity_scenario]               NaN        from_node_id   \n",
              "\n",
              "   number_of_iterations column_updating_iterations signal_updating_iterations  \\\n",
              "0                    40                         40                         -1   \n",
              "1                   NaN                        NaN                        NaN   \n",
              "2                   NaN                        VOT                  flow_type   \n",
              "3                   NaN                         10                          0   \n",
              "4                   NaN                        NaN                        NaN   \n",
              "5                   NaN       agent_type_blocklist                  type_code   \n",
              "6                   NaN                        NaN                          f   \n",
              "7                   NaN                        NaN                          a   \n",
              "8                   NaN                        NaN                        NaN   \n",
              "9                   NaN                time_period                        NaN   \n",
              "10                  NaN                  0700_0800                        NaN   \n",
              "11                  NaN                        NaN                        NaN   \n",
              "12                  NaN                format_type              demand_period   \n",
              "13                  NaN                     column                         AM   \n",
              "14                  NaN                        NaN                        NaN   \n",
              "15           to_node_id                time_window              time_interval   \n",
              "\n",
              "   signal_updating_output                                 remarks  \n",
              "0                       0  assignment_mode can be ue, dta or odme  \n",
              "1                     NaN                                     NaN  \n",
              "2                     PCE                                     NaN  \n",
              "3                       1                                     NaN  \n",
              "4                     NaN                                     NaN  \n",
              "5       traffic_flow_code                                     NaN  \n",
              "6                       0                                     NaN  \n",
              "7                       0                                     NaN  \n",
              "8                     NaN                                     NaN  \n",
              "9                     NaN                                     NaN  \n",
              "10                    NaN                                     NaN  \n",
              "11                    NaN                                     NaN  \n",
              "12             agent_type                                     NaN  \n",
              "13                      p                                     NaN  \n",
              "14                    NaN                                     NaN  \n",
              "15      travel_time_delta                                capacity  "
            ],
            "text/html": [
              "\n",
              "  <div id=\"df-56e3be94-549d-49da-a000-9ff5ace9b06c\">\n",
              "    <div class=\"colab-df-container\">\n",
              "      <div>\n",
              "<style scoped>\n",
              "    .dataframe tbody tr th:only-of-type {\n",
              "        vertical-align: middle;\n",
              "    }\n",
              "\n",
              "    .dataframe tbody tr th {\n",
              "        vertical-align: top;\n",
              "    }\n",
              "\n",
              "    .dataframe thead th {\n",
              "        text-align: right;\n",
              "    }\n",
              "</style>\n",
              "<table border=\"1\" class=\"dataframe\">\n",
              "  <thead>\n",
              "    <tr style=\"text-align: right;\">\n",
              "      <th></th>\n",
              "      <th>[assignment]</th>\n",
              "      <th>Unnamed: 1</th>\n",
              "      <th>assignment_mode</th>\n",
              "      <th>number_of_iterations</th>\n",
              "      <th>column_updating_iterations</th>\n",
              "      <th>signal_updating_iterations</th>\n",
              "      <th>signal_updating_output</th>\n",
              "      <th>remarks</th>\n",
              "    </tr>\n",
              "  </thead>\n",
              "  <tbody>\n",
              "    <tr>\n",
              "      <th>0</th>\n",
              "      <td>NaN</td>\n",
              "      <td>NaN</td>\n",
              "      <td>ue</td>\n",
              "      <td>40</td>\n",
              "      <td>40</td>\n",
              "      <td>-1</td>\n",
              "      <td>0</td>\n",
              "      <td>assignment_mode can be ue, dta or odme</td>\n",
              "    </tr>\n",
              "    <tr>\n",
              "      <th>1</th>\n",
              "      <td>NaN</td>\n",
              "      <td>NaN</td>\n",
              "      <td>NaN</td>\n",
              "      <td>NaN</td>\n",
              "      <td>NaN</td>\n",
              "      <td>NaN</td>\n",
              "      <td>NaN</td>\n",
              "      <td>NaN</td>\n",
              "    </tr>\n",
              "    <tr>\n",
              "      <th>2</th>\n",
              "      <td>[agent_type]</td>\n",
              "      <td>agent_type</td>\n",
              "      <td>name</td>\n",
              "      <td>NaN</td>\n",
              "      <td>VOT</td>\n",
              "      <td>flow_type</td>\n",
              "      <td>PCE</td>\n",
              "      <td>NaN</td>\n",
              "    </tr>\n",
              "    <tr>\n",
              "      <th>3</th>\n",
              "      <td>NaN</td>\n",
              "      <td>p</td>\n",
              "      <td>passenger</td>\n",
              "      <td>NaN</td>\n",
              "      <td>10</td>\n",
              "      <td>0</td>\n",
              "      <td>1</td>\n",
              "      <td>NaN</td>\n",
              "    </tr>\n",
              "    <tr>\n",
              "      <th>4</th>\n",
              "      <td>NaN</td>\n",
              "      <td>NaN</td>\n",
              "      <td>NaN</td>\n",
              "      <td>NaN</td>\n",
              "      <td>NaN</td>\n",
              "      <td>NaN</td>\n",
              "      <td>NaN</td>\n",
              "      <td>NaN</td>\n",
              "    </tr>\n",
              "    <tr>\n",
              "      <th>5</th>\n",
              "      <td>[link_type]</td>\n",
              "      <td>link_type</td>\n",
              "      <td>link_type_name</td>\n",
              "      <td>NaN</td>\n",
              "      <td>agent_type_blocklist</td>\n",
              "      <td>type_code</td>\n",
              "      <td>traffic_flow_code</td>\n",
              "      <td>NaN</td>\n",
              "    </tr>\n",
              "    <tr>\n",
              "      <th>6</th>\n",
              "      <td>NaN</td>\n",
              "      <td>1</td>\n",
              "      <td>Highway/Expressway</td>\n",
              "      <td>NaN</td>\n",
              "      <td>NaN</td>\n",
              "      <td>f</td>\n",
              "      <td>0</td>\n",
              "      <td>NaN</td>\n",
              "    </tr>\n",
              "    <tr>\n",
              "      <th>7</th>\n",
              "      <td>NaN</td>\n",
              "      <td>2</td>\n",
              "      <td>Major arterial</td>\n",
              "      <td>NaN</td>\n",
              "      <td>NaN</td>\n",
              "      <td>a</td>\n",
              "      <td>0</td>\n",
              "      <td>NaN</td>\n",
              "    </tr>\n",
              "    <tr>\n",
              "      <th>8</th>\n",
              "      <td>NaN</td>\n",
              "      <td>NaN</td>\n",
              "      <td>NaN</td>\n",
              "      <td>NaN</td>\n",
              "      <td>NaN</td>\n",
              "      <td>NaN</td>\n",
              "      <td>NaN</td>\n",
              "      <td>NaN</td>\n",
              "    </tr>\n",
              "    <tr>\n",
              "      <th>9</th>\n",
              "      <td>[demand_period]</td>\n",
              "      <td>demand_period_id</td>\n",
              "      <td>demand_period</td>\n",
              "      <td>NaN</td>\n",
              "      <td>time_period</td>\n",
              "      <td>NaN</td>\n",
              "      <td>NaN</td>\n",
              "      <td>NaN</td>\n",
              "    </tr>\n",
              "    <tr>\n",
              "      <th>10</th>\n",
              "      <td>NaN</td>\n",
              "      <td>1</td>\n",
              "      <td>AM</td>\n",
              "      <td>NaN</td>\n",
              "      <td>0700_0800</td>\n",
              "      <td>NaN</td>\n",
              "      <td>NaN</td>\n",
              "      <td>NaN</td>\n",
              "    </tr>\n",
              "    <tr>\n",
              "      <th>11</th>\n",
              "      <td>NaN</td>\n",
              "      <td>NaN</td>\n",
              "      <td>NaN</td>\n",
              "      <td>NaN</td>\n",
              "      <td>NaN</td>\n",
              "      <td>NaN</td>\n",
              "      <td>NaN</td>\n",
              "      <td>NaN</td>\n",
              "    </tr>\n",
              "    <tr>\n",
              "      <th>12</th>\n",
              "      <td>[demand_file_list]</td>\n",
              "      <td>file_sequence_no</td>\n",
              "      <td>file_name</td>\n",
              "      <td>NaN</td>\n",
              "      <td>format_type</td>\n",
              "      <td>demand_period</td>\n",
              "      <td>agent_type</td>\n",
              "      <td>NaN</td>\n",
              "    </tr>\n",
              "    <tr>\n",
              "      <th>13</th>\n",
              "      <td>NaN</td>\n",
              "      <td>1</td>\n",
              "      <td>demand.csv</td>\n",
              "      <td>NaN</td>\n",
              "      <td>column</td>\n",
              "      <td>AM</td>\n",
              "      <td>p</td>\n",
              "      <td>NaN</td>\n",
              "    </tr>\n",
              "    <tr>\n",
              "      <th>14</th>\n",
              "      <td>NaN</td>\n",
              "      <td>NaN</td>\n",
              "      <td>NaN</td>\n",
              "      <td>NaN</td>\n",
              "      <td>NaN</td>\n",
              "      <td>NaN</td>\n",
              "      <td>NaN</td>\n",
              "      <td>NaN</td>\n",
              "    </tr>\n",
              "    <tr>\n",
              "      <th>15</th>\n",
              "      <td>[capacity_scenario]</td>\n",
              "      <td>NaN</td>\n",
              "      <td>from_node_id</td>\n",
              "      <td>to_node_id</td>\n",
              "      <td>time_window</td>\n",
              "      <td>time_interval</td>\n",
              "      <td>travel_time_delta</td>\n",
              "      <td>capacity</td>\n",
              "    </tr>\n",
              "  </tbody>\n",
              "</table>\n",
              "</div>\n",
              "      <button class=\"colab-df-convert\" onclick=\"convertToInteractive('df-56e3be94-549d-49da-a000-9ff5ace9b06c')\"\n",
              "              title=\"Convert this dataframe to an interactive table.\"\n",
              "              style=\"display:none;\">\n",
              "        \n",
              "  <svg xmlns=\"http://www.w3.org/2000/svg\" height=\"24px\"viewBox=\"0 0 24 24\"\n",
              "       width=\"24px\">\n",
              "    <path d=\"M0 0h24v24H0V0z\" fill=\"none\"/>\n",
              "    <path d=\"M18.56 5.44l.94 2.06.94-2.06 2.06-.94-2.06-.94-.94-2.06-.94 2.06-2.06.94zm-11 1L8.5 8.5l.94-2.06 2.06-.94-2.06-.94L8.5 2.5l-.94 2.06-2.06.94zm10 10l.94 2.06.94-2.06 2.06-.94-2.06-.94-.94-2.06-.94 2.06-2.06.94z\"/><path d=\"M17.41 7.96l-1.37-1.37c-.4-.4-.92-.59-1.43-.59-.52 0-1.04.2-1.43.59L10.3 9.45l-7.72 7.72c-.78.78-.78 2.05 0 2.83L4 21.41c.39.39.9.59 1.41.59.51 0 1.02-.2 1.41-.59l7.78-7.78 2.81-2.81c.8-.78.8-2.07 0-2.86zM5.41 20L4 18.59l7.72-7.72 1.47 1.35L5.41 20z\"/>\n",
              "  </svg>\n",
              "      </button>\n",
              "      \n",
              "  <style>\n",
              "    .colab-df-container {\n",
              "      display:flex;\n",
              "      flex-wrap:wrap;\n",
              "      gap: 12px;\n",
              "    }\n",
              "\n",
              "    .colab-df-convert {\n",
              "      background-color: #E8F0FE;\n",
              "      border: none;\n",
              "      border-radius: 50%;\n",
              "      cursor: pointer;\n",
              "      display: none;\n",
              "      fill: #1967D2;\n",
              "      height: 32px;\n",
              "      padding: 0 0 0 0;\n",
              "      width: 32px;\n",
              "    }\n",
              "\n",
              "    .colab-df-convert:hover {\n",
              "      background-color: #E2EBFA;\n",
              "      box-shadow: 0px 1px 2px rgba(60, 64, 67, 0.3), 0px 1px 3px 1px rgba(60, 64, 67, 0.15);\n",
              "      fill: #174EA6;\n",
              "    }\n",
              "\n",
              "    [theme=dark] .colab-df-convert {\n",
              "      background-color: #3B4455;\n",
              "      fill: #D2E3FC;\n",
              "    }\n",
              "\n",
              "    [theme=dark] .colab-df-convert:hover {\n",
              "      background-color: #434B5C;\n",
              "      box-shadow: 0px 1px 3px 1px rgba(0, 0, 0, 0.15);\n",
              "      filter: drop-shadow(0px 1px 2px rgba(0, 0, 0, 0.3));\n",
              "      fill: #FFFFFF;\n",
              "    }\n",
              "  </style>\n",
              "\n",
              "      <script>\n",
              "        const buttonEl =\n",
              "          document.querySelector('#df-56e3be94-549d-49da-a000-9ff5ace9b06c button.colab-df-convert');\n",
              "        buttonEl.style.display =\n",
              "          google.colab.kernel.accessAllowed ? 'block' : 'none';\n",
              "\n",
              "        async function convertToInteractive(key) {\n",
              "          const element = document.querySelector('#df-56e3be94-549d-49da-a000-9ff5ace9b06c');\n",
              "          const dataTable =\n",
              "            await google.colab.kernel.invokeFunction('convertToInteractive',\n",
              "                                                     [key], {});\n",
              "          if (!dataTable) return;\n",
              "\n",
              "          const docLinkHtml = 'Like what you see? Visit the ' +\n",
              "            '<a target=\"_blank\" href=https://colab.research.google.com/notebooks/data_table.ipynb>data table notebook</a>'\n",
              "            + ' to learn more about interactive tables.';\n",
              "          element.innerHTML = '';\n",
              "          dataTable['output_type'] = 'display_data';\n",
              "          await google.colab.output.renderOutput(dataTable, element);\n",
              "          const docLink = document.createElement('div');\n",
              "          docLink.innerHTML = docLinkHtml;\n",
              "          element.appendChild(docLink);\n",
              "        }\n",
              "      </script>\n",
              "    </div>\n",
              "  </div>\n",
              "  "
            ]
          },
          "metadata": {},
          "execution_count": 9
        }
      ]
    },
    {
      "cell_type": "code",
      "source": [
        "DL.perform_kernel_network_assignment_simulation()"
      ],
      "metadata": {
        "id": "PD5dmRqmT_fn",
        "outputId": "900e85ac-482c-475f-aab4-69181cf26ebe",
        "colab": {
          "base_uri": "https://localhost:8080/"
        }
      },
      "id": "PD5dmRqmT_fn",
      "execution_count": 10,
      "outputs": [
        {
          "output_type": "stream",
          "name": "stdout",
          "text": [
            "INFO Begin to run function: perform_kernel_network_assignment_simulation …\n",
            "The default assignment mode is 2 (UE + DTA)                and the default column generation number is 10                and the default column update number is 10.\n",
            "assignment_mode:  2\n",
            "column_gen_num:  10\n",
            "column_update_num:  10\n",
            "\n",
            "DTALite run starts\n",
            "\n",
            "DTALite run completes\n",
            "\n",
            "check link_performance.csv in /content/DLSim-MRM/datasets/ASU for link performance\n",
            "check agent.csv in /content/DLSim-MRM/datasets/ASU for unique agent paths\n",
            "\n",
            "INFO Finished running function: perform_kernel_network_assignment_simulation, total: 3s\n",
            "\n"
          ]
        }
      ]
    }
  ],
  "metadata": {
    "kernelspec": {
      "display_name": "Python 3",
      "language": "python",
      "name": "python3"
    },
    "language_info": {
      "codemirror_mode": {
        "name": "ipython",
        "version": 3
      },
      "file_extension": ".py",
      "mimetype": "text/x-python",
      "name": "python",
      "nbconvert_exporter": "python",
      "pygments_lexer": "ipython3",
      "version": "3.8.8"
    },
    "colab": {
      "provenance": [],
      "include_colab_link": true
    }
  },
  "nbformat": 4,
  "nbformat_minor": 5
}